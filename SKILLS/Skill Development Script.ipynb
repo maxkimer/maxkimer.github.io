{
 "cells": [
  {
   "cell_type": "code",
   "execution_count": 1,
   "metadata": {},
   "outputs": [
    {
     "name": "stdout",
     "output_type": "stream",
     "text": [
      "Welcome to my python script\n",
      "Are you ready for some fun coding? yes/no:  yes\n",
      "\n",
      "That's some nice enthusiasm bro, let's get it\n",
      "\n",
      "Please type in a whole number: 1\n",
      "\n",
      "You chose the number 1, check out this dope math\n",
      "\n",
      "Some fun facts about that number: \n",
      "\n",
      "1 squared is 1\n",
      "\n",
      "The square root of 1 is 1.0\n",
      "\n",
      "If 1 was the radius of a circle, its circumference would be 3.141592653589793\n",
      "\n",
      "If you exchanged 1 American dollars you would recieve 71.33 rupees\n",
      "What is a nickname I can call you? sex\n",
      "\n",
      "Now let's do a grocery list, SEX\n",
      "\n",
      "['Eggs', 'Milk', 'Toilet paper', 'fruit roll-ups', 'fried chicken', 'chowder', 'hummus']\n",
      "\n",
      "Oh darn you forgot something, please add it to the list: dee\n",
      "\n",
      "Now that list is looking NICE\n",
      "\n",
      "Eggs\n",
      "Milk\n",
      "Toilet paper\n",
      "fruit roll-ups\n",
      "fried chicken\n",
      "chowder\n",
      "hummus\n",
      "dee\n",
      "\n",
      "WAIT! You found some fresh chowder in your backyard, but you need orange slices for your kid's teeball game tomorrow. Don't worry I'll fix it for you\n",
      "\n",
      "Eggs\n",
      "Milk\n",
      "Toilet paper\n",
      "fruit roll-ups\n",
      "fried chicken\n",
      "orange slices\n",
      "hummus\n",
      "dee\n",
      "\n",
      "Now lets do some FUNctions\n",
      "\n",
      "This is a basic function only used to print, nothing happening here\n",
      "\n",
      "This function is used for cubing a list of numbers\n",
      "\n",
      "[-13, 1, 2, 3, 3.141592653589793, 4, 5, 16, 21]\n",
      "[-2197.0, 1.0, 8.0, 27.0, 31.006276680299816, 64.0, 125.0, 4096.0, 9261.0]\n",
      "\n",
      "Hey SEX I hope you enjoyed this part of my script, you chose the number 1earlier, hope you're ready for some graphing!\n",
      "\n"
     ]
    }
   ],
   "source": [
    "print(\"Welcome to my python script\") #probably the hardest thing in python to learn\n",
    "\n",
    "fun = input(\"Are you ready for some fun coding? yes/no:  \") #string variable skillz\n",
    "fun = fun.replace(\" \",\"\")\n",
    "\n",
    "if len(fun) > 3: #some nested simple if functions\n",
    "    print(\"\\nfollow directions or you're gonna have a bad time\")\n",
    "else: \n",
    "    if fun == \"yes\" or fun == \"ye\" or fun == \"y\" or fun == \"yess\":\n",
    "        print(\"\\nThat's some nice enthusiasm bro, let's get it\")\n",
    "    else:\n",
    "        print(\"\\nNot with that attitude you're not\") #adding \\n at beginning for prints because some end in a str and for readability\n",
    "\n",
    "number = input(\"\\nPlease type in a whole number: \") #took a lot of time but I got the loop to work with 3 chances to put a number, then breaks and chooses 17 for you\n",
    "number = number.replace(\" \",\"\")\n",
    "x = 0\n",
    "\n",
    "if (number.isdigit()):\n",
    "       number = int(number)\n",
    "       print(\"\\nYou chose the number \" + str(number) + \", check out this dope math\")\n",
    "else:\n",
    "    while x < 3:\n",
    "       number = input(\"\\nThat's not an int! Try again: \")\n",
    "       number = number.replace(\" \",\"\")\n",
    "       if (number.isdigit()):\n",
    "         number = int(number)\n",
    "         print(\"\\nYou chose the number \" + str(number) + \", check out this dope math\") \n",
    "         break\n",
    "       x = x + 1\n",
    "       if x == 2:\n",
    "           number = 17\n",
    "           print(\"\\nI gave you 3 tries to listen, you get the number 17 now.\")\n",
    "           break\n",
    "   \n",
    "import math\n",
    "    \n",
    "print(\"\\nSome fun facts about that number: \\n\")  \n",
    "print(str(number) + \" squared is \" + str(number * number))\n",
    "print(\"\\nThe square root of \" + str(number) + \" is \" + str(number ** (1/2))) #some basic math operations and var conversions\n",
    "print(\"\\nIf \" + str(number) + \" was the radius of a circle, its circumference would be \" + str(number * number * math.pi))\n",
    "print(\"\\nIf you exchanged \" + str(number) + \" American dollars you would recieve \" + str(71.33 * number) + \" rupees\")\n",
    "\n",
    "#I didn't want to get too ridiculous so we'll move on now\n",
    "\n",
    "nickname = input(\"What is a nickname I can call you? \") #getting an input to recall later\n",
    "\n",
    "print(\"\\nNow let's do a grocery list, \" + nickname.upper() + \"\\n\")\n",
    "\n",
    "biglist = [\"Eggs\", \"Milk\", \"Toilet paper\", \"fruit roll-ups\", \"fried chicken\", \"chowder\", \"hummus\"] #list assignments\n",
    "\n",
    "print(biglist) #basic print as array\n",
    "    \n",
    "newitem = input(\"\\nOh darn you forgot something, please add it to the list: \")\n",
    "\n",
    "biglist.append(newitem) #add item to list\n",
    "print(\"\\nNow that list is looking NICE\\n\")\n",
    "\n",
    "for x in biglist: #the cooler way to print\n",
    "    print(x)\n",
    "\n",
    "print(\"\\nWAIT! You found some fresh chowder in your backyard, but you need orange slices for your kid's teeball game tomorrow. Don't worry I'll fix it for you\\n\")\n",
    "biglist.insert(5, \"orange slices\") \n",
    "biglist.remove(\"chowder\") #basic insert and remove items from list\n",
    "\n",
    "for x in biglist:\n",
    "    print(x)\n",
    "    \n",
    "print(\"\\nNow lets do some FUNctions\\n\") #emphasis on fun \n",
    "\n",
    "def function1():\n",
    "    print(\"This is a basic function only used to print, nothing happening here\") #sample function\n",
    "    \n",
    "function1()\n",
    "\n",
    "num = [-13, 1, 2, 3, math.pi, 4, 5, 16, 21] #function will return each var cubed\n",
    "\n",
    "def function2(num):\n",
    "    result = []\n",
    "    for z in num: #added a for loop to handle multiple variables\n",
    "        result.append(math.pow(z,3))\n",
    "    return result\n",
    "\n",
    "print(\"\\nThis function is used for cubing a list of numbers\\n\")\n",
    "print(num)\n",
    "print(function2(num)) #print results of cube function\n",
    "\n",
    "def function3(nickname): #var recalling from earlier with an input function\n",
    "    print(\"\\nHey \" + nickname.upper() + \" I hope you enjoyed this part of my script, you chose the number \" + str(number) + \" earlier, hope you're ready for some graphing!\\n\")\n",
    "\n",
    "function3(nickname)\n"
   ]
  },
  {
   "cell_type": "code",
   "execution_count": 2,
   "metadata": {},
   "outputs": [],
   "source": [
    "import pandas as pd"
   ]
  },
  {
   "cell_type": "code",
   "execution_count": 3,
   "metadata": {},
   "outputs": [],
   "source": [
    "df = pd.DataFrame()"
   ]
  },
  {
   "cell_type": "code",
   "execution_count": 4,
   "metadata": {},
   "outputs": [],
   "source": [
    "df['x'] = [1, 5, 10, 15, 20, 25, 30, 35, 40, 45, 50]\n",
    "df['y'] = [8, 20, 40, 60, 78, 90, 110, 145, 188, 280, 360]\n",
    "df['z'] = [1, 25, 105, 225, 405, 618, 922, 1250, 1700, 2050, 2600]"
   ]
  },
  {
   "cell_type": "code",
   "execution_count": 5,
   "metadata": {},
   "outputs": [
    {
     "name": "stdout",
     "output_type": "stream",
     "text": [
      "Here is the data we will be using to plot our first two graphs\n"
     ]
    },
    {
     "data": {
      "text/html": [
       "<div>\n",
       "<style scoped>\n",
       "    .dataframe tbody tr th:only-of-type {\n",
       "        vertical-align: middle;\n",
       "    }\n",
       "\n",
       "    .dataframe tbody tr th {\n",
       "        vertical-align: top;\n",
       "    }\n",
       "\n",
       "    .dataframe thead th {\n",
       "        text-align: right;\n",
       "    }\n",
       "</style>\n",
       "<table border=\"1\" class=\"dataframe\">\n",
       "  <thead>\n",
       "    <tr style=\"text-align: right;\">\n",
       "      <th></th>\n",
       "      <th>x</th>\n",
       "      <th>y</th>\n",
       "      <th>z</th>\n",
       "    </tr>\n",
       "  </thead>\n",
       "  <tbody>\n",
       "    <tr>\n",
       "      <th>0</th>\n",
       "      <td>1</td>\n",
       "      <td>8</td>\n",
       "      <td>1</td>\n",
       "    </tr>\n",
       "    <tr>\n",
       "      <th>1</th>\n",
       "      <td>5</td>\n",
       "      <td>20</td>\n",
       "      <td>25</td>\n",
       "    </tr>\n",
       "    <tr>\n",
       "      <th>2</th>\n",
       "      <td>10</td>\n",
       "      <td>40</td>\n",
       "      <td>105</td>\n",
       "    </tr>\n",
       "    <tr>\n",
       "      <th>3</th>\n",
       "      <td>15</td>\n",
       "      <td>60</td>\n",
       "      <td>225</td>\n",
       "    </tr>\n",
       "    <tr>\n",
       "      <th>4</th>\n",
       "      <td>20</td>\n",
       "      <td>78</td>\n",
       "      <td>405</td>\n",
       "    </tr>\n",
       "    <tr>\n",
       "      <th>5</th>\n",
       "      <td>25</td>\n",
       "      <td>90</td>\n",
       "      <td>618</td>\n",
       "    </tr>\n",
       "    <tr>\n",
       "      <th>6</th>\n",
       "      <td>30</td>\n",
       "      <td>110</td>\n",
       "      <td>922</td>\n",
       "    </tr>\n",
       "    <tr>\n",
       "      <th>7</th>\n",
       "      <td>35</td>\n",
       "      <td>145</td>\n",
       "      <td>1250</td>\n",
       "    </tr>\n",
       "    <tr>\n",
       "      <th>8</th>\n",
       "      <td>40</td>\n",
       "      <td>188</td>\n",
       "      <td>1700</td>\n",
       "    </tr>\n",
       "    <tr>\n",
       "      <th>9</th>\n",
       "      <td>45</td>\n",
       "      <td>280</td>\n",
       "      <td>2050</td>\n",
       "    </tr>\n",
       "    <tr>\n",
       "      <th>10</th>\n",
       "      <td>50</td>\n",
       "      <td>360</td>\n",
       "      <td>2600</td>\n",
       "    </tr>\n",
       "  </tbody>\n",
       "</table>\n",
       "</div>"
      ],
      "text/plain": [
       "     x    y     z\n",
       "0    1    8     1\n",
       "1    5   20    25\n",
       "2   10   40   105\n",
       "3   15   60   225\n",
       "4   20   78   405\n",
       "5   25   90   618\n",
       "6   30  110   922\n",
       "7   35  145  1250\n",
       "8   40  188  1700\n",
       "9   45  280  2050\n",
       "10  50  360  2600"
      ]
     },
     "execution_count": 5,
     "metadata": {},
     "output_type": "execute_result"
    }
   ],
   "source": [
    "print(\"Here is the data we will be using to plot our first two graphs\")\n",
    "df"
   ]
  },
  {
   "cell_type": "code",
   "execution_count": 6,
   "metadata": {},
   "outputs": [
    {
     "name": "stdout",
     "output_type": "stream",
     "text": [
      "Lets do a simple line plot\n",
      "\n"
     ]
    },
    {
     "data": {
      "text/plain": [
       "Text(0.5, 0.98, 'Very Important Graph')"
      ]
     },
     "execution_count": 6,
     "metadata": {},
     "output_type": "execute_result"
    },
    {
     "data": {
      "image/png": "[encoded data removed]",
      "text/plain": [
       "<Figure size 432x288 with 1 Axes>"
      ]
     },
     "metadata": {
      "needs_background": "light"
     },
     "output_type": "display_data"
    }
   ],
   "source": [
    "print(\"Lets do a simple line plot\\n\")\n",
    "%matplotlib inline\n",
    "import matplotlib.pyplot as plt\n",
    "plt.plot(df['x'], df['y'])\n",
    "plt.xlabel('Number of people at the party')\n",
    "plt.ylabel('Number of M&Ms needed')\n",
    "plt.suptitle('Very Important Graph')"
   ]
  },
  {
   "cell_type": "code",
   "execution_count": 7,
   "metadata": {},
   "outputs": [
    {
     "name": "stdout",
     "output_type": "stream",
     "text": [
      "Now let's do a scatter plot with SUBPLOTS!!!!!\n",
      "\n"
     ]
    },
    {
     "data": {
      "text/plain": [
       "<matplotlib.legend.Legend at 0x2a01b042710>"
      ]
     },
     "execution_count": 7,
     "metadata": {},
     "output_type": "execute_result"
    },
    {
     "data": {
      "image/png": "[encoded data removed]",
      "text/plain": [
       "<Figure size 432x288 with 1 Axes>"
      ]
     },
     "metadata": {
      "needs_background": "light"
     },
     "output_type": "display_data"
    }
   ],
   "source": [
    "print(\"Now let's do a scatter plot with SUBPLOTS!!!!!\\n\") #to showcase my subplot/styling skills\n",
    "plt.subplot()\n",
    "plt.plot(df['x'], df['z'], 'g^', label=\"Me\")\n",
    "plt.plot(df['x'], df['y'], 'rs', label=\"Any other golfer\")\n",
    "plt.xlabel('Number of putts taken in a round of golf')\n",
    "plt.ylabel('Frustration')\n",
    "plt.suptitle('Putts vs Anger')\n",
    "plt.legend(bbox_to_anchor=(0., 1.01, 1., .101), loc=3, ncol=2, mode=\"expand\")"
   ]
  },
  {
   "cell_type": "code",
   "execution_count": 8,
   "metadata": {},
   "outputs": [
    {
     "name": "stdout",
     "output_type": "stream",
     "text": [
      "\n",
      "Here is a Simple graph with regression plotted\n"
     ]
    },
    {
     "data": {
      "image/png": "[encoded data removed]",
      "text/plain": [
       "<Figure size 432x288 with 1 Axes>"
      ]
     },
     "metadata": {
      "needs_background": "light"
     },
     "output_type": "display_data"
    }
   ],
   "source": [
    "import numpy as np\n",
    "w = [1, 5, 10, 15, 20, 25, 30, 35, 40, 45, 50]\n",
    "r = [2, 12, 18, 29, 45, 55, 59, 67, 82, 91, 105] #should be simple linear regression line\n",
    "\n",
    "reg = np.polyfit(w,r,1)\n",
    "reg_fn = np.poly1d(reg)\n",
    "plt.plot(w, r, label='Data')\n",
    "plt.plot(w, reg_fn(w), label='Line of Best Fit')\n",
    "plt.legend(bbox_to_anchor=(1.06, 1), loc=2, borderaxespad=0.)\n",
    "plt.title('Regression Example') \n",
    "\n",
    "print(\"\\nHere is a Simple graph with regression plotted\")"
   ]
  },
  {
   "cell_type": "code",
   "execution_count": 9,
   "metadata": {},
   "outputs": [
    {
     "name": "stdout",
     "output_type": "stream",
     "text": [
      "This is a satire plot I actually think this is really cool\n"
     ]
    },
    {
     "data": {
      "image/png": "[encoded data removed]",
      "text/plain": [
       "<Figure size 432x288 with 1 Axes>"
      ]
     },
     "metadata": {
      "needs_background": "light"
     },
     "output_type": "display_data"
    }
   ],
   "source": [
    "objects = ('Python', 'Avoiding Python', 'Sleep', 'Being Confused', 'Pacing', 'Enjoying Myself') #went out of scope a bit and learned how to do a bar graph since I'll need it in the future\n",
    "ypos = np.arange(len(objects))\n",
    "values = [7, 7, 4, 3, 3, 0]\n",
    "plt.barh(ypos, values, align='center', alpha=0.2)\n",
    "plt.yticks(ypos, objects)\n",
    "plt.xlabel('Daily Hours')\n",
    "plt.title('Self-Guided Skills Project Daily Breakdown') \n",
    "print(\"This is a satire plot I actually think this is really cool\")"
   ]
  },
  {
   "cell_type": "code",
   "execution_count": 10,
   "metadata": {},
   "outputs": [
    {
     "name": "stdout",
     "output_type": "stream",
     "text": [
      "\n",
      "Please type in a whole number: e\n",
      "Please type in a NUMBER: e\n"
     ]
    },
    {
     "ename": "ValueError",
     "evalue": "invalid literal for int() with base 10: 'e'",
     "output_type": "error",
     "traceback": [
      "\u001b[1;31m---------------------------------------------------------------------------\u001b[0m",
      "\u001b[1;31mValueError\u001b[0m                                Traceback (most recent call last)",
      "\u001b[1;32m<ipython-input-10-0ecc8154efec>\u001b[0m in \u001b[0;36m<module>\u001b[1;34m\u001b[0m\n\u001b[0;32m      8\u001b[0m     \u001b[0mnumber\u001b[0m \u001b[1;33m=\u001b[0m \u001b[0minput\u001b[0m\u001b[1;33m(\u001b[0m\u001b[1;34m\"Please type in a NUMBER: \"\u001b[0m\u001b[1;33m)\u001b[0m \u001b[1;31m#really wanted to do a loop to insure number input but I couldn't figure out a way to do it without copying a complicated code I don't understand\u001b[0m\u001b[1;33m\u001b[0m\u001b[1;33m\u001b[0m\u001b[0m\n\u001b[0;32m      9\u001b[0m     \u001b[0mnumber\u001b[0m \u001b[1;33m=\u001b[0m \u001b[0mnumber\u001b[0m\u001b[1;33m.\u001b[0m\u001b[0mreplace\u001b[0m\u001b[1;33m(\u001b[0m\u001b[1;34m\" \"\u001b[0m\u001b[1;33m,\u001b[0m\u001b[1;34m\"\"\u001b[0m\u001b[1;33m)\u001b[0m\u001b[1;33m\u001b[0m\u001b[1;33m\u001b[0m\u001b[0m\n\u001b[1;32m---> 10\u001b[1;33m     \u001b[0mnumber\u001b[0m \u001b[1;33m=\u001b[0m \u001b[0mint\u001b[0m\u001b[1;33m(\u001b[0m\u001b[0mnumber\u001b[0m\u001b[1;33m)\u001b[0m\u001b[1;33m\u001b[0m\u001b[1;33m\u001b[0m\u001b[0m\n\u001b[0m\u001b[0;32m     11\u001b[0m     \u001b[0mprint\u001b[0m\u001b[1;33m(\u001b[0m\u001b[1;34m\"\\nYou chose the number \"\u001b[0m \u001b[1;33m+\u001b[0m \u001b[0mstr\u001b[0m\u001b[1;33m(\u001b[0m\u001b[0mnumber\u001b[0m\u001b[1;33m)\u001b[0m \u001b[1;33m+\u001b[0m \u001b[1;34m\", check out this dope math\"\u001b[0m\u001b[1;33m)\u001b[0m\u001b[1;33m\u001b[0m\u001b[1;33m\u001b[0m\u001b[0m\n\u001b[0;32m     12\u001b[0m     \u001b[0mnumber\u001b[0m \u001b[1;33m=\u001b[0m \u001b[0mint\u001b[0m\u001b[1;33m(\u001b[0m\u001b[0mnumber\u001b[0m\u001b[1;33m)\u001b[0m\u001b[1;33m\u001b[0m\u001b[1;33m\u001b[0m\u001b[0m\n",
      "\u001b[1;31mValueError\u001b[0m: invalid literal for int() with base 10: 'e'"
     ]
    }
   ],
   "source": [
    "number = input(\"\\nPlease type in a whole number: \") #old number input code (prior to looping) left just in case the loop errors somehow\n",
    "number = number.replace(\" \",\"\")\n",
    "\n",
    "if (number.isdigit()):\n",
    "    print(\"\\nYou chose the number \" + str(number) + \", check out this dope math\")\n",
    "    number = int(number)\n",
    "else:\n",
    "    number = input(\"Please type in a NUMBER: \") #really wanted to do a loop to insure number input but I couldn't figure out a way to do it without copying a complicated code I don't understand\n",
    "    number = number.replace(\" \",\"\")\n",
    "    number = int(number)\n",
    "    print(\"\\nYou chose the number \" + str(number) + \", check out this dope math\")\n",
    "    number = int(number)\n",
    "   "
   ]
  },
  {
   "cell_type": "code",
   "execution_count": null,
   "metadata": {},
   "outputs": [],
   "source": []
  },
  {
   "cell_type": "code",
   "execution_count": null,
   "metadata": {},
   "outputs": [],
   "source": []
  }
 ],
 "metadata": {
  "kernelspec": {
   "display_name": "Python 3",
   "language": "python",
   "name": "python3"
  },
  "language_info": {
   "codemirror_mode": {
    "name": "ipython",
    "version": 3
   },
   "file_extension": ".py",
   "mimetype": "text/x-python",
   "name": "python",
   "nbconvert_exporter": "python",
   "pygments_lexer": "ipython3",
   "version": "3.7.1"
  }
 },
 "nbformat": 4,
 "nbformat_minor": 2
}
